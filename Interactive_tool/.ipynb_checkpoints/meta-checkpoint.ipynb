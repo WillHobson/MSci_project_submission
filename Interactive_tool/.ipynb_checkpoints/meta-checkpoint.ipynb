{
 "cells": [
  {
   "cell_type": "code",
   "execution_count": 1,
   "id": "0dd0eaab",
   "metadata": {},
   "outputs": [
    {
     "ename": "NameError",
     "evalue": "name 'filename' is not defined",
     "output_type": "error",
     "traceback": [
      "\u001b[0;31m---------------------------------------------------------------------------\u001b[0m",
      "\u001b[0;31mNameError\u001b[0m                                 Traceback (most recent call last)",
      "\u001b[0;32m/var/folders/zw/15smybld5s1049b6wy3qhck80000gn/T/ipykernel_57730/3727300802.py\u001b[0m in \u001b[0;36m<module>\u001b[0;34m\u001b[0m\n\u001b[1;32m      6\u001b[0m \u001b[0;34m\u001b[0m\u001b[0m\n\u001b[1;32m      7\u001b[0m \u001b[0;34m\u001b[0m\u001b[0m\n\u001b[0;32m----> 8\u001b[0;31m \u001b[0;32mif\u001b[0m \u001b[0mfilename\u001b[0m \u001b[0;34m==\u001b[0m \u001b[0;34m\"griffiths550.csv\"\u001b[0m\u001b[0;34m:\u001b[0m\u001b[0;34m\u001b[0m\u001b[0;34m\u001b[0m\u001b[0m\n\u001b[0m\u001b[1;32m      9\u001b[0m     \u001b[0mtext\u001b[0m \u001b[0;34m=\u001b[0m \u001b[0;34mr\"T=323K   $P_{init}$=1738mbar   $mass_{U}$=1.8g\"\u001b[0m\u001b[0;34m\u001b[0m\u001b[0;34m\u001b[0m\u001b[0m\n\u001b[1;32m     10\u001b[0m \u001b[0;32melif\u001b[0m \u001b[0mfilename\u001b[0m \u001b[0;34m==\u001b[0m \u001b[0;34m\"griffiths700.csv\"\u001b[0m\u001b[0;34m:\u001b[0m\u001b[0;34m\u001b[0m\u001b[0;34m\u001b[0m\u001b[0m\n",
      "\u001b[0;31mNameError\u001b[0m: name 'filename' is not defined"
     ]
    }
   ],
   "source": [
    "import ipywidgets as widgets\n",
    "from IPython.display import display, clear_output, HTML, Image\n",
    "\n",
    "\n",
    "#filename = \"griffiths550.csv\"\n",
    "\n",
    "\n",
    "if filename == \"griffiths550.csv\":\n",
    "    text = r\"T=323K   $P_{init}$=1738mbar   $mass_{U}$=1.8g\"\n",
    "elif filename == \"griffiths700.csv\":\n",
    "    text = \"T=323K   $P_{init}$=1738mbar   $mass_{U}$=1.8g\"\n",
    "elif filename == \"stakebake50s.csv\":\n",
    "    text = \"T=323K   $P_{const}$=266mbar\"\n",
    "elif filename == \"stakebake91s.csv\":\n",
    "    text = \"T=364K   $P_{const}$=266mbar\"\n",
    "elif filename == \"stakebake150s.csv\":\n",
    "    text = \"T=423K   $P_{const}$=266mbar\"\n",
    "elif filename == \"stakebake206s.csv\":\n",
    "    text = \"T=479K   $P_{const}$=266mbar\"  \n",
    "elif filename == \"stakebake250s.csv\":\n",
    "    text = \"T=523K   $P_{const}$=266mbar\"\n",
    "    \n",
    "styled_text = (\n",
    "    '<p style=\"font-family: Arial, Helvetica, sans-serif; font-size: 16px;text-align: justify;\">'\n",
    "    f'{text}'\n",
    "    '</p>')\n",
    "\n",
    "\n",
    "display(HTML(styled_text))\n",
    "# Display the HTML-formatted text\n"
   ]
  },
  {
   "cell_type": "code",
   "execution_count": null,
   "id": "c8d6c33e",
   "metadata": {},
   "outputs": [],
   "source": []
  }
 ],
 "metadata": {
  "kernelspec": {
   "display_name": "Python 3 (ipykernel)",
   "language": "python",
   "name": "python3"
  },
  "language_info": {
   "codemirror_mode": {
    "name": "ipython",
    "version": 3
   },
   "file_extension": ".py",
   "mimetype": "text/x-python",
   "name": "python",
   "nbconvert_exporter": "python",
   "pygments_lexer": "ipython3",
   "version": "3.9.13"
  }
 },
 "nbformat": 4,
 "nbformat_minor": 5
}
